{
 "cells": [
  {
   "cell_type": "markdown",
   "metadata": {},
   "source": [
    "# Отток клиентов"
   ]
  },
  {
   "cell_type": "markdown",
   "metadata": {},
   "source": [
    "Из банка стали уходить клиенты. Каждый месяц. Немного, но заметно. Банковские маркетологи посчитали: сохранять текущих клиентов дешевле, чем привлекать новых.\n",
    "\n",
    "Нужно спрогнозировать, уйдёт клиент из банка в ближайшее время или нет. Вам предоставлены исторические данные о поведении клиентов и расторжении договоров с банком. \n",
    "\n",
    "Построим модель с предельно большим значением *F1*-меры.\n",
    "Дополнительно будем измерять *AUC-ROC*, сравнивайте её значение с *F1*-мерой.\n"
   ]
  },
  {
   "cell_type": "markdown",
   "metadata": {},
   "source": [
    "## Подготовка данных"
   ]
  },
  {
   "cell_type": "markdown",
   "metadata": {},
   "source": [
    "### Для начала импортируем все необходимые библиотеки"
   ]
  },
  {
   "cell_type": "code",
   "execution_count": 1,
   "metadata": {},
   "outputs": [],
   "source": [
    "import pandas as pd\n",
    "from sklearn.model_selection import train_test_split\n",
    "from sklearn.metrics import roc_auc_score\n",
    "from sklearn.metrics import f1_score\n",
    "from sklearn.tree import DecisionTreeClassifier\n",
    "from sklearn.ensemble import RandomForestClassifier\n",
    "from sklearn.ensemble import ExtraTreesClassifier\n",
    "from sklearn.neural_network import MLPClassifier\n",
    "from sklearn.ensemble import AdaBoostClassifier\n",
    "from sklearn.ensemble import GradientBoostingClassifier\n",
    "from sklearn.linear_model import RidgeClassifier\n",
    "from sklearn.tree import DecisionTreeRegressor\n",
    "from sklearn.linear_model import PassiveAggressiveClassifier\n",
    "from sklearn.utils import shuffle\n",
    "from sklearn.preprocessing import OrdinalEncoder\n",
    "from sklearn.preprocessing import OneHotEncoder\n",
    "from sklearn.preprocessing import StandardScaler \n",
    "import matplotlib.pyplot as plt"
   ]
  },
  {
   "cell_type": "markdown",
   "metadata": {},
   "source": [
    "### Откроем и изучим датасет"
   ]
  },
  {
   "cell_type": "code",
   "execution_count": 2,
   "metadata": {},
   "outputs": [],
   "source": [
    "data = pd.read_csv('/datasets/Churn.csv')"
   ]
  },
  {
   "cell_type": "code",
   "execution_count": 3,
   "metadata": {},
   "outputs": [
    {
     "data": {
      "text/html": [
       "<div>\n",
       "<style scoped>\n",
       "    .dataframe tbody tr th:only-of-type {\n",
       "        vertical-align: middle;\n",
       "    }\n",
       "\n",
       "    .dataframe tbody tr th {\n",
       "        vertical-align: top;\n",
       "    }\n",
       "\n",
       "    .dataframe thead th {\n",
       "        text-align: right;\n",
       "    }\n",
       "</style>\n",
       "<table border=\"1\" class=\"dataframe\">\n",
       "  <thead>\n",
       "    <tr style=\"text-align: right;\">\n",
       "      <th></th>\n",
       "      <th>RowNumber</th>\n",
       "      <th>CustomerId</th>\n",
       "      <th>Surname</th>\n",
       "      <th>CreditScore</th>\n",
       "      <th>Geography</th>\n",
       "      <th>Gender</th>\n",
       "      <th>Age</th>\n",
       "      <th>Tenure</th>\n",
       "      <th>Balance</th>\n",
       "      <th>NumOfProducts</th>\n",
       "      <th>HasCrCard</th>\n",
       "      <th>IsActiveMember</th>\n",
       "      <th>EstimatedSalary</th>\n",
       "      <th>Exited</th>\n",
       "    </tr>\n",
       "  </thead>\n",
       "  <tbody>\n",
       "    <tr>\n",
       "      <th>0</th>\n",
       "      <td>1</td>\n",
       "      <td>15634602</td>\n",
       "      <td>Hargrave</td>\n",
       "      <td>619</td>\n",
       "      <td>France</td>\n",
       "      <td>Female</td>\n",
       "      <td>42</td>\n",
       "      <td>2.0</td>\n",
       "      <td>0.00</td>\n",
       "      <td>1</td>\n",
       "      <td>1</td>\n",
       "      <td>1</td>\n",
       "      <td>101348.88</td>\n",
       "      <td>1</td>\n",
       "    </tr>\n",
       "    <tr>\n",
       "      <th>1</th>\n",
       "      <td>2</td>\n",
       "      <td>15647311</td>\n",
       "      <td>Hill</td>\n",
       "      <td>608</td>\n",
       "      <td>Spain</td>\n",
       "      <td>Female</td>\n",
       "      <td>41</td>\n",
       "      <td>1.0</td>\n",
       "      <td>83807.86</td>\n",
       "      <td>1</td>\n",
       "      <td>0</td>\n",
       "      <td>1</td>\n",
       "      <td>112542.58</td>\n",
       "      <td>0</td>\n",
       "    </tr>\n",
       "    <tr>\n",
       "      <th>2</th>\n",
       "      <td>3</td>\n",
       "      <td>15619304</td>\n",
       "      <td>Onio</td>\n",
       "      <td>502</td>\n",
       "      <td>France</td>\n",
       "      <td>Female</td>\n",
       "      <td>42</td>\n",
       "      <td>8.0</td>\n",
       "      <td>159660.80</td>\n",
       "      <td>3</td>\n",
       "      <td>1</td>\n",
       "      <td>0</td>\n",
       "      <td>113931.57</td>\n",
       "      <td>1</td>\n",
       "    </tr>\n",
       "    <tr>\n",
       "      <th>3</th>\n",
       "      <td>4</td>\n",
       "      <td>15701354</td>\n",
       "      <td>Boni</td>\n",
       "      <td>699</td>\n",
       "      <td>France</td>\n",
       "      <td>Female</td>\n",
       "      <td>39</td>\n",
       "      <td>1.0</td>\n",
       "      <td>0.00</td>\n",
       "      <td>2</td>\n",
       "      <td>0</td>\n",
       "      <td>0</td>\n",
       "      <td>93826.63</td>\n",
       "      <td>0</td>\n",
       "    </tr>\n",
       "    <tr>\n",
       "      <th>4</th>\n",
       "      <td>5</td>\n",
       "      <td>15737888</td>\n",
       "      <td>Mitchell</td>\n",
       "      <td>850</td>\n",
       "      <td>Spain</td>\n",
       "      <td>Female</td>\n",
       "      <td>43</td>\n",
       "      <td>2.0</td>\n",
       "      <td>125510.82</td>\n",
       "      <td>1</td>\n",
       "      <td>1</td>\n",
       "      <td>1</td>\n",
       "      <td>79084.10</td>\n",
       "      <td>0</td>\n",
       "    </tr>\n",
       "  </tbody>\n",
       "</table>\n",
       "</div>"
      ],
      "text/plain": [
       "   RowNumber  CustomerId   Surname  CreditScore Geography  Gender  Age  \\\n",
       "0          1    15634602  Hargrave          619    France  Female   42   \n",
       "1          2    15647311      Hill          608     Spain  Female   41   \n",
       "2          3    15619304      Onio          502    France  Female   42   \n",
       "3          4    15701354      Boni          699    France  Female   39   \n",
       "4          5    15737888  Mitchell          850     Spain  Female   43   \n",
       "\n",
       "   Tenure    Balance  NumOfProducts  HasCrCard  IsActiveMember  \\\n",
       "0     2.0       0.00              1          1               1   \n",
       "1     1.0   83807.86              1          0               1   \n",
       "2     8.0  159660.80              3          1               0   \n",
       "3     1.0       0.00              2          0               0   \n",
       "4     2.0  125510.82              1          1               1   \n",
       "\n",
       "   EstimatedSalary  Exited  \n",
       "0        101348.88       1  \n",
       "1        112542.58       0  \n",
       "2        113931.57       1  \n",
       "3         93826.63       0  \n",
       "4         79084.10       0  "
      ]
     },
     "execution_count": 3,
     "metadata": {},
     "output_type": "execute_result"
    }
   ],
   "source": [
    "data.head()"
   ]
  },
  {
   "cell_type": "code",
   "execution_count": 4,
   "metadata": {},
   "outputs": [
    {
     "name": "stdout",
     "output_type": "stream",
     "text": [
      "<class 'pandas.core.frame.DataFrame'>\n",
      "RangeIndex: 10000 entries, 0 to 9999\n",
      "Data columns (total 14 columns):\n",
      " #   Column           Non-Null Count  Dtype  \n",
      "---  ------           --------------  -----  \n",
      " 0   RowNumber        10000 non-null  int64  \n",
      " 1   CustomerId       10000 non-null  int64  \n",
      " 2   Surname          10000 non-null  object \n",
      " 3   CreditScore      10000 non-null  int64  \n",
      " 4   Geography        10000 non-null  object \n",
      " 5   Gender           10000 non-null  object \n",
      " 6   Age              10000 non-null  int64  \n",
      " 7   Tenure           9091 non-null   float64\n",
      " 8   Balance          10000 non-null  float64\n",
      " 9   NumOfProducts    10000 non-null  int64  \n",
      " 10  HasCrCard        10000 non-null  int64  \n",
      " 11  IsActiveMember   10000 non-null  int64  \n",
      " 12  EstimatedSalary  10000 non-null  float64\n",
      " 13  Exited           10000 non-null  int64  \n",
      "dtypes: float64(3), int64(8), object(3)\n",
      "memory usage: 1.1+ MB\n"
     ]
    }
   ],
   "source": [
    "data.info()"
   ]
  },
  {
   "cell_type": "markdown",
   "metadata": {},
   "source": [
    "Есть пропуски в информации о количестве лет, с уходом клиента они вряд-ли связаны, учитывая, что первый же клиент из таблицы ушёл, а вот значение не пропущены. Возможно пропуски обозначают то, что клиент является клиентом банка меньше одного года"
   ]
  },
  {
   "cell_type": "code",
   "execution_count": 6,
   "metadata": {},
   "outputs": [
    {
     "data": {
      "text/plain": [
       "array([ 2.,  1.,  8.,  7.,  4.,  6.,  3., 10.,  5.,  9.,  0., nan])"
      ]
     },
     "execution_count": 6,
     "metadata": {},
     "output_type": "execute_result"
    }
   ],
   "source": [
    "data['Tenure'].unique()\n",
    "#проверим теорию о пропусках"
   ]
  },
  {
   "cell_type": "code",
   "execution_count": 7,
   "metadata": {},
   "outputs": [],
   "source": [
    "data['Tenure'] = data['Tenure'].fillna('')"
   ]
  },
  {
   "cell_type": "markdown",
   "metadata": {},
   "source": [
    "Действительно нули есть. В таком случае лучше будет оставить эти пропуски. Однако нужно избавиться от значения NaN, поскольку модели его не принимают"
   ]
  },
  {
   "cell_type": "markdown",
   "metadata": {},
   "source": [
    "### Теперь подготовим таблицу с помощью прямого кодирования"
   ]
  },
  {
   "cell_type": "code",
   "execution_count": 8,
   "metadata": {},
   "outputs": [],
   "source": [
    "data_ohe = pd.get_dummies(data, drop_first=True)"
   ]
  },
  {
   "cell_type": "markdown",
   "metadata": {},
   "source": [
    "Используется именно прямое кодирование, поскольку будет проверяться много различных моделей"
   ]
  },
  {
   "cell_type": "markdown",
   "metadata": {},
   "source": [
    "### Далее разделим данные на обучающую, валидационную и тестовую выборки и масштабируем их"
   ]
  },
  {
   "cell_type": "markdown",
   "metadata": {},
   "source": [
    "Соотнешение предлагаю выбрать 60:20:20"
   ]
  },
  {
   "cell_type": "code",
   "execution_count": 9,
   "metadata": {},
   "outputs": [],
   "source": [
    "target = data_ohe['Exited']\n",
    "features = data_ohe.drop('Exited', axis=1)"
   ]
  },
  {
   "cell_type": "code",
   "execution_count": 10,
   "metadata": {},
   "outputs": [],
   "source": [
    "features_train, features_valid, target_train, target_valid = train_test_split(\n",
    "    features, target, test_size=0.20, random_state=9091)\n",
    "features_train, features_test, target_train, target_test = train_test_split(\n",
    "    features_train, target_train, test_size=0.25, random_state=9091)"
   ]
  },
  {
   "cell_type": "code",
   "execution_count": 11,
   "metadata": {},
   "outputs": [],
   "source": [
    "scaler = StandardScaler()\n",
    "scaler.fit(features_train) \n",
    "features_train_scaled = scaler.transform(features_train)\n",
    "features_valid_scaled = scaler.transform(features_valid) \n",
    "features_test_scaled = scaler.transform(features_test) "
   ]
  },
  {
   "cell_type": "code",
   "execution_count": 12,
   "metadata": {},
   "outputs": [
    {
     "name": "stdout",
     "output_type": "stream",
     "text": [
      "(6000, 2954)\n",
      "(2000, 2954)\n",
      "(2000, 2954)\n"
     ]
    }
   ],
   "source": [
    "print(features_train.shape)\n",
    "print(features_valid.shape)\n",
    "print(features_test.shape)"
   ]
  },
  {
   "cell_type": "markdown",
   "metadata": {},
   "source": [
    "Выборки подготовлены масштабированны можно начинать обучение моделей"
   ]
  },
  {
   "cell_type": "markdown",
   "metadata": {},
   "source": [
    "## Исследование задачи"
   ]
  },
  {
   "cell_type": "markdown",
   "metadata": {},
   "source": [
    "Перед нами стоит задача классификации, попробуем разные модели. Пока что без учёта дисбаланса, но для начала проверим, насколько сильный дисбаланс в целом"
   ]
  },
  {
   "cell_type": "code",
   "execution_count": 13,
   "metadata": {},
   "outputs": [
    {
     "name": "stdout",
     "output_type": "stream",
     "text": [
      "Распределение клиентов\n",
      "0    4798\n",
      "1    1202\n",
      "Name: Exited, dtype: int64\n"
     ]
    }
   ],
   "source": [
    "print('Распределение клиентов')\n",
    "print(target_train.value_counts())"
   ]
  },
  {
   "cell_type": "code",
   "execution_count": 14,
   "metadata": {},
   "outputs": [
    {
     "name": "stdout",
     "output_type": "stream",
     "text": [
      "распределение клиентов в процентах\n"
     ]
    },
    {
     "data": {
      "image/png": "[encoded data removed]",
      "text/plain": [
       "<Figure size 432x288 with 1 Axes>"
      ]
     },
     "metadata": {},
     "output_type": "display_data"
    }
   ],
   "source": [
    "print('распределение клиентов в процентах')\n",
    "fig1, ax1 = plt.subplots()\n",
    "ax1.pie(target_train.value_counts(), \n",
    "        labels=['оставшиеся клиенты', 'ушедшие клиенты'], \n",
    "        autopct='%1.2f%%')\n",
    "ax1.axis('equal')\n",
    "plt.show()"
   ]
  },
  {
   "cell_type": "markdown",
   "metadata": {},
   "source": [
    "в обучающей выборке ушло в 4 раза меньше клиентов, чем осталось, кажется присутствует дисбаланс."
   ]
  },
  {
   "cell_type": "markdown",
   "metadata": {},
   "source": [
    "### Для начала проверим качество дерева решений"
   ]
  },
  {
   "cell_type": "code",
   "execution_count": 15,
   "metadata": {},
   "outputs": [
    {
     "name": "stdout",
     "output_type": "stream",
     "text": [
      "лучший показатель F1: 0.5603328710124826\n",
      "лучшая модель: DecisionTreeClassifier(max_depth=9, random_state=9091)\n",
      "лучший показатель AUC-ROC: 0.7663342400868575\n",
      "\n",
      "длительность расчётов:\n",
      "CPU times: user 24.6 s, sys: 977 ms, total: 25.6 s\n",
      "Wall time: 27.8 s\n"
     ]
    }
   ],
   "source": [
    "%%time\n",
    "best_model = None\n",
    "best_result = 0\n",
    "best_auc_roc = 0\n",
    "for depth in range(1, 51):\n",
    "    model = DecisionTreeClassifier(random_state=9091, max_depth=depth) \n",
    "    model.fit(features_train_scaled, target_train)\n",
    "    predicted_valid = model.predict(features_valid_scaled)\n",
    "    result = f1_score(target_valid, predicted_valid)\n",
    "    probabilities_valid = model.predict_proba(features_valid_scaled)\n",
    "    probabilities_one_valid = probabilities_valid[:, 1]\n",
    "    auc_roc = roc_auc_score(target_valid, probabilities_one_valid)\n",
    "    if result > best_result:\n",
    "        best_model = model\n",
    "        best_result = result\n",
    "        best_auc_roc = auc_roc\n",
    "print('лучший показатель F1:', best_result)\n",
    "print('лучшая модель:', best_model)\n",
    "print('лучший показатель AUC-ROC:', best_auc_roc)\n",
    "print()\n",
    "print('длительность расчётов:')"
   ]
  },
  {
   "cell_type": "markdown",
   "metadata": {},
   "source": [
    "не самые лучшие показатели, до необходимых нам значений ещё далеко..."
   ]
  },
  {
   "cell_type": "markdown",
   "metadata": {},
   "source": [
    "### Теперь попробуем случайный лес"
   ]
  },
  {
   "cell_type": "code",
   "execution_count": 16,
   "metadata": {},
   "outputs": [
    {
     "name": "stdout",
     "output_type": "stream",
     "text": [
      "лучший показатель F1: 0.1787941787941788\n",
      "лучшая модель: RandomForestClassifier(max_depth=17, n_estimators=2, random_state=9091)\n",
      "лучший показатель AUC-ROC: 0.7254878274304871\n",
      "\n",
      "длительность расчётов:\n",
      "CPU times: user 1min 5s, sys: 7.9 s, total: 1min 13s\n",
      "Wall time: 1min 13s\n"
     ]
    }
   ],
   "source": [
    "%%time\n",
    "best_model = None\n",
    "best_result = 0\n",
    "best_auc_roc = 0\n",
    "for est in range(1, 21):\n",
    "    for depth in range(1, 21):\n",
    "        model = RandomForestClassifier(random_state=9091, n_estimators=est, max_depth=depth)\n",
    "        model.fit(features_train_scaled, target_train)\n",
    "        predicted_valid = model.predict(features_valid_scaled)\n",
    "        result = f1_score(target_valid, predicted_valid)\n",
    "        probabilities_valid = model.predict_proba(features_valid_scaled)\n",
    "        probabilities_one_valid = probabilities_valid[:, 1]\n",
    "        auc_roc = roc_auc_score(target_valid, probabilities_one_valid)\n",
    "        if result > best_result:\n",
    "            best_model = model\n",
    "            best_result = result\n",
    "            best_auc_roc = auc_roc\n",
    "print('лучший показатель F1:', best_result)\n",
    "print('лучшая модель:', best_model)\n",
    "print('лучший показатель AUC-ROC:', best_auc_roc)\n",
    "print()\n",
    "print('длительность расчётов:')                "
   ]
  },
  {
   "cell_type": "markdown",
   "metadata": {},
   "source": [
    "Со случайным лесом получились очень низкие показатели, возможно на это влияет дисбаланс, а может такая модель попросту неподходит для нашей задачи"
   ]
  },
  {
   "cell_type": "markdown",
   "metadata": {},
   "source": [
    "### Попробуем Extra Trees Classifier"
   ]
  },
  {
   "cell_type": "code",
   "execution_count": 17,
   "metadata": {},
   "outputs": [
    {
     "name": "stdout",
     "output_type": "stream",
     "text": [
      "лучший показатель F1: 0.08108108108108109\n",
      "лучшая модель: ExtraTreesClassifier(max_depth=46, random_state=9091)\n",
      "лучший показатель AUC-ROC: 0.783523035715351\n",
      "\n",
      "длительность расчётов:\n",
      "CPU times: user 2min 27s, sys: 1.21 s, total: 2min 28s\n",
      "Wall time: 2min 29s\n"
     ]
    }
   ],
   "source": [
    "%%time\n",
    "best_model = None\n",
    "best_result = 0\n",
    "best_auc_roc = 0\n",
    "for depth in range(1, 51):\n",
    "    model = ExtraTreesClassifier(random_state=9091, max_depth=depth) \n",
    "    model.fit(features_train_scaled, target_train)\n",
    "    predicted_valid = model.predict(features_valid_scaled)\n",
    "    result = f1_score(target_valid, predicted_valid)\n",
    "    probabilities_valid = model.predict_proba(features_valid_scaled)\n",
    "    probabilities_one_valid = probabilities_valid[:, 1]\n",
    "    auc_roc = roc_auc_score(target_valid, probabilities_one_valid)\n",
    "    if result > best_result:\n",
    "        best_model = model\n",
    "        best_result = result\n",
    "        best_auc_roc = auc_roc\n",
    "print('лучший показатель F1:', best_result)\n",
    "print('лучшая модель:', best_model)\n",
    "print('лучший показатель AUC-ROC:', best_auc_roc)\n",
    "print()\n",
    "print('длительность расчётов:')"
   ]
  },
  {
   "cell_type": "markdown",
   "metadata": {},
   "source": [
    "Результаты пока что становятся только хуже, при том как f1, так и значение auc-roc"
   ]
  },
  {
   "cell_type": "markdown",
   "metadata": {},
   "source": [
    "### Немного поэксперементируем и попробуем многоуровневый классификатор"
   ]
  },
  {
   "cell_type": "code",
   "execution_count": 18,
   "metadata": {},
   "outputs": [
    {
     "name": "stdout",
     "output_type": "stream",
     "text": [
      "0.20105820105820105\n",
      "0.6038665282674445\n",
      "CPU times: user 5min 38s, sys: 5min 34s, total: 11min 13s\n",
      "Wall time: 11min 14s\n"
     ]
    }
   ],
   "source": [
    "%%time\n",
    "model = MLPClassifier(random_state=9091) \n",
    "model.fit(features_train_scaled, target_train)\n",
    "predicted_valid = model.predict(features_valid_scaled)\n",
    "result = f1_score(target_valid, predicted_valid)\n",
    "probabilities_valid = model.predict_proba(features_valid_scaled)\n",
    "probabilities_one_valid = probabilities_valid[:, 1]\n",
    "auc_roc = roc_auc_score(target_valid, probabilities_one_valid)\n",
    "print(result)\n",
    "print(auc_roc)"
   ]
  },
  {
   "cell_type": "markdown",
   "metadata": {},
   "source": [
    "Результаты не очень хорошие"
   ]
  },
  {
   "cell_type": "markdown",
   "metadata": {},
   "source": [
    "### Посмотрим как покажет себя ada boost"
   ]
  },
  {
   "cell_type": "code",
   "execution_count": 19,
   "metadata": {},
   "outputs": [
    {
     "name": "stdout",
     "output_type": "stream",
     "text": [
      "лучший показатель F1: 0.5521292217327459\n",
      "лучшая модель: AdaBoostClassifier(n_estimators=26, random_state=9091)\n",
      "лучший показатель AUC-ROC: 0.8262836229575675\n",
      "\n",
      "длительность расчётов:\n",
      "CPU times: user 2min 48s, sys: 49.2 s, total: 3min 37s\n",
      "Wall time: 3min 40s\n"
     ]
    }
   ],
   "source": [
    "%%time\n",
    "best_model = None\n",
    "best_result = 0\n",
    "best_auc_roc = 0\n",
    "for est in range(1, 51):\n",
    "    model = AdaBoostClassifier(random_state=9091, n_estimators=est)\n",
    "    model.fit(features_train_scaled, target_train)\n",
    "    predicted_valid = model.predict(features_valid_scaled)\n",
    "    result = f1_score(target_valid, predicted_valid)\n",
    "    probabilities_valid = model.predict_proba(features_valid_scaled)\n",
    "    probabilities_one_valid = probabilities_valid[:, 1]\n",
    "    auc_roc = roc_auc_score(target_valid, probabilities_one_valid)\n",
    "    if result > best_result:\n",
    "        best_model = model\n",
    "        best_result = result\n",
    "        best_auc_roc = auc_roc\n",
    "print('лучший показатель F1:', best_result)\n",
    "print('лучшая модель:', best_model)\n",
    "print('лучший показатель AUC-ROC:', best_auc_roc)\n",
    "print()\n",
    "print('длительность расчётов:')"
   ]
  },
  {
   "cell_type": "markdown",
   "metadata": {},
   "source": [
    "Очень близко к дереву решений, однако результат всё таки хуже"
   ]
  },
  {
   "cell_type": "markdown",
   "metadata": {},
   "source": [
    "### Возможно градиентный классификатор сможет превзойти наше лучшее дерево"
   ]
  },
  {
   "cell_type": "code",
   "execution_count": 20,
   "metadata": {},
   "outputs": [
    {
     "name": "stdout",
     "output_type": "stream",
     "text": [
      "лучший показатель F1: 0.5480314960629922\n",
      "лучшая модель: GradientBoostingClassifier(max_depth=7, n_estimators=20, random_state=9091)\n",
      "лучший показатель AUC-ROC: 0.8381720863086183\n",
      "\n",
      "длительность расчётов:\n",
      "CPU times: user 7min 20s, sys: 3.81 s, total: 7min 23s\n",
      "Wall time: 7min 24s\n"
     ]
    }
   ],
   "source": [
    "%%time\n",
    "best_model = None\n",
    "best_result = 0\n",
    "best_auc_roc = 0\n",
    "for est in range(1, 21):\n",
    "    for depth in range(1, 11):\n",
    "        model = GradientBoostingClassifier(random_state=9091, n_estimators=est, max_depth=depth)\n",
    "        model.fit(features_train_scaled, target_train)\n",
    "        predicted_valid = model.predict(features_valid_scaled)\n",
    "        result = f1_score(target_valid, predicted_valid)\n",
    "        probabilities_valid = model.predict_proba(features_valid_scaled)\n",
    "        probabilities_one_valid = probabilities_valid[:, 1]\n",
    "        auc_roc = roc_auc_score(target_valid, probabilities_one_valid)\n",
    "        if result > best_result:\n",
    "            best_model = model\n",
    "            best_result = result\n",
    "            best_auc_roc = auc_roc\n",
    "print('лучший показатель F1:', best_result)\n",
    "print('лучшая модель:', best_model)\n",
    "print('лучший показатель AUC-ROC:', best_auc_roc)\n",
    "print()\n",
    "print('длительность расчётов:')    "
   ]
  },
  {
   "cell_type": "markdown",
   "metadata": {},
   "source": [
    "К сожалению не смог, да и времени ушло давольно много"
   ]
  },
  {
   "cell_type": "markdown",
   "metadata": {},
   "source": [
    "### Интересно как себя покажет линейный классификатор"
   ]
  },
  {
   "cell_type": "code",
   "execution_count": 21,
   "metadata": {},
   "outputs": [
    {
     "name": "stdout",
     "output_type": "stream",
     "text": [
      "лучший показатель F1: 0.21512605042016808\n",
      "лучшая модель: RidgeClassifier(max_iter=1, random_state=9091)\n",
      "лучший показатель AUC-ROC: 0.5417628600915104\n",
      "\n",
      "длительность расчётов:\n",
      "CPU times: user 36.4 s, sys: 19.8 s, total: 56.2 s\n",
      "Wall time: 56.3 s\n"
     ]
    }
   ],
   "source": [
    "%%time\n",
    "best_model = None\n",
    "best_result = 0\n",
    "best_auc_roc = 0\n",
    "for it in range(1, 11):\n",
    "    model = RidgeClassifier(random_state=9091, max_iter=it)\n",
    "    model.fit(features_train_scaled, target_train)\n",
    "    predicted_valid = model.predict(features_valid_scaled)\n",
    "    result = f1_score(target_valid, predicted_valid)\n",
    "    auc_roc = roc_auc_score(target_valid, predicted_valid)\n",
    "    if result > best_result:\n",
    "        best_model = model\n",
    "        best_result = result\n",
    "        best_auc_roc = auc_roc\n",
    "print('лучший показатель F1:', best_result)\n",
    "print('лучшая модель:', best_model)\n",
    "print('лучший показатель AUC-ROC:', best_auc_roc)\n",
    "print()\n",
    "print('длительность расчётов:')"
   ]
  },
  {
   "cell_type": "markdown",
   "metadata": {},
   "source": [
    "Линейный классификатор так же показал себя не очень хорошо. "
   ]
  },
  {
   "cell_type": "markdown",
   "metadata": {},
   "source": [
    "После масштабирования данных качество всех моделей улучшилось, посмотрим что будет после победы дисбаланса"
   ]
  },
  {
   "cell_type": "markdown",
   "metadata": {},
   "source": [
    "## Борьба с дисбалансом"
   ]
  },
  {
   "cell_type": "markdown",
   "metadata": {},
   "source": [
    "теперь постараемся справиться с дисбалансом в выборке путём увеличения количества ушедших клиентов. Сделаем их равными по количеству, для этого нужно увеличить число ушедших клиентов в 4 раза."
   ]
  },
  {
   "cell_type": "markdown",
   "metadata": {},
   "source": [
    "### Для начала создадим функцию, которая будет сортировать нашу выборку"
   ]
  },
  {
   "cell_type": "code",
   "execution_count": 22,
   "metadata": {},
   "outputs": [],
   "source": [
    "def upsample(features, target, repeat):\n",
    "    features_zeros = features[target == 0]\n",
    "    features_ones = features[target == 1]\n",
    "    target_zeros = target[target == 0]\n",
    "    target_ones = target[target == 1]\n",
    "    features_train_upsampled = pd.concat([features_zeros] + [features_ones] * repeat)\n",
    "    target_train_upsampled = pd.concat([target_zeros] + [target_ones] * repeat)\n",
    "    features_train_upsampled, target_train_upsampled = shuffle(\n",
    "        features_train_upsampled, target_train_upsampled, random_state=9091)\n",
    "    return features_train_upsampled, target_train_upsampled\n",
    "features_train_upsampled, target_train_upsampled = upsample(features_train, target_train, 4)"
   ]
  },
  {
   "cell_type": "code",
   "execution_count": 23,
   "metadata": {},
   "outputs": [],
   "source": [
    "features_train_upsampled = scaler.transform(features_train_upsampled)"
   ]
  },
  {
   "cell_type": "markdown",
   "metadata": {},
   "source": [
    "### Теперь можем попробовать те же модели, но с учётом дисбаланса, начнём так же с решающего дерева"
   ]
  },
  {
   "cell_type": "code",
   "execution_count": 24,
   "metadata": {},
   "outputs": [
    {
     "name": "stdout",
     "output_type": "stream",
     "text": [
      "лучший показатель F1: 0.5691854759568203\n",
      "лучшая модель: DecisionTreeClassifier(max_depth=6, random_state=9091)\n",
      "лучший показатель AUC-ROC: 0.8202622128365279\n",
      "\n",
      "длительность расчётов:\n",
      "CPU times: user 30.5 s, sys: 1.5 s, total: 32 s\n",
      "Wall time: 32.1 s\n"
     ]
    }
   ],
   "source": [
    "%%time\n",
    "best_model = None\n",
    "best_result = 0\n",
    "best_auc_roc = 0\n",
    "for depth in range(1, 51):\n",
    "    model = DecisionTreeClassifier(random_state=9091, max_depth=depth) \n",
    "    model.fit(features_train_upsampled, target_train_upsampled)\n",
    "    predicted_valid = model.predict(features_valid_scaled)\n",
    "    result = f1_score(target_valid, predicted_valid)\n",
    "    probabilities_valid = model.predict_proba(features_valid_scaled)\n",
    "    probabilities_one_valid = probabilities_valid[:, 1]\n",
    "    auc_roc = roc_auc_score(target_valid, probabilities_one_valid)\n",
    "    if result > best_result:\n",
    "        best_model = model\n",
    "        best_result = result\n",
    "        best_auc_roc = auc_roc\n",
    "print('лучший показатель F1:', best_result)\n",
    "print('лучшая модель:', best_model)\n",
    "print('лучший показатель AUC-ROC:', best_auc_roc)\n",
    "print()\n",
    "print('длительность расчётов:')"
   ]
  },
  {
   "cell_type": "markdown",
   "metadata": {},
   "source": [
    "Результат стал лучше, но не сильно"
   ]
  },
  {
   "cell_type": "markdown",
   "metadata": {},
   "source": [
    "### Случайный лес"
   ]
  },
  {
   "cell_type": "code",
   "execution_count": 25,
   "metadata": {},
   "outputs": [
    {
     "name": "stdout",
     "output_type": "stream",
     "text": [
      "лучший показатель F1: 0.5597609561752989\n",
      "лучшая модель: RandomForestClassifier(max_depth=19, n_estimators=14, random_state=9091)\n",
      "лучший показатель AUC-ROC: 0.8065669536064332\n",
      "\n",
      "длительность расчётов:\n",
      "CPU times: user 5min 59s, sys: 23.9 s, total: 6min 22s\n",
      "Wall time: 10min 22s\n"
     ]
    }
   ],
   "source": [
    "%%time\n",
    "best_model = None\n",
    "best_result = 0\n",
    "best_auc_roc = 0\n",
    "for est in range(1, 41):\n",
    "    for depth in range(1, 21):\n",
    "        model = RandomForestClassifier(random_state=9091, n_estimators=est, max_depth=depth)\n",
    "        model.fit(features_train_upsampled, target_train_upsampled)\n",
    "        predicted_valid = model.predict(features_valid_scaled)\n",
    "        result = f1_score(target_valid, predicted_valid)\n",
    "        probabilities_valid = model.predict_proba(features_valid_scaled)\n",
    "        probabilities_one_valid = probabilities_valid[:, 1]\n",
    "        auc_roc = roc_auc_score(target_valid, probabilities_one_valid)\n",
    "        if result > best_result:\n",
    "            best_model = model\n",
    "            best_result = result\n",
    "            best_auc_roc = auc_roc\n",
    "print('лучший показатель F1:', best_result)\n",
    "print('лучшая модель:', best_model)\n",
    "print('лучший показатель AUC-ROC:', best_auc_roc)\n",
    "print()\n",
    "print('длительность расчётов:')  "
   ]
  },
  {
   "cell_type": "markdown",
   "metadata": {},
   "source": [
    "У случайного леса результаты стали заметно лучше, и всё же недостаточно"
   ]
  },
  {
   "cell_type": "markdown",
   "metadata": {},
   "source": [
    "### Extra Trees Classifier"
   ]
  },
  {
   "cell_type": "code",
   "execution_count": 26,
   "metadata": {},
   "outputs": [
    {
     "name": "stdout",
     "output_type": "stream",
     "text": [
      "лучший показатель F1: 0.5456821026282852\n",
      "лучшая модель: ExtraTreesClassifier(max_depth=48, random_state=9091)\n",
      "лучший показатель AUC-ROC: 0.782516360339078\n",
      "\n",
      "длительность расчётов:\n",
      "CPU times: user 4min 52s, sys: 399 ms, total: 4min 52s\n",
      "Wall time: 9min 55s\n"
     ]
    }
   ],
   "source": [
    "%%time\n",
    "best_model = None\n",
    "best_result = 0\n",
    "best_auc_roc = 0\n",
    "for depth in range(1, 51):\n",
    "    model = ExtraTreesClassifier(random_state=9091, max_depth=depth) \n",
    "    model.fit(features_train_upsampled, target_train_upsampled)\n",
    "    predicted_valid = model.predict(features_valid_scaled)\n",
    "    result = f1_score(target_valid, predicted_valid)\n",
    "    probabilities_valid = model.predict_proba(features_valid_scaled)\n",
    "    probabilities_one_valid = probabilities_valid[:, 1]\n",
    "    auc_roc = roc_auc_score(target_valid, probabilities_one_valid)\n",
    "    if result > best_result:\n",
    "        best_model = model\n",
    "        best_result = result\n",
    "        best_auc_roc = auc_roc\n",
    "print('лучший показатель F1:', best_result)\n",
    "print('лучшая модель:', best_model)\n",
    "print('лучший показатель AUC-ROC:', best_auc_roc)\n",
    "print()\n",
    "print('длительность расчётов:')"
   ]
  },
  {
   "cell_type": "markdown",
   "metadata": {},
   "source": [
    "### Ada boost"
   ]
  },
  {
   "cell_type": "code",
   "execution_count": 28,
   "metadata": {},
   "outputs": [
    {
     "name": "stdout",
     "output_type": "stream",
     "text": [
      "лучший показатель F1: 0.5926640926640927\n",
      "лучшая модель: AdaBoostClassifier(n_estimators=12, random_state=9091)\n",
      "лучший показатель AUC-ROC: 0.8354376577124757\n",
      "\n",
      "длительность расчётов:\n",
      "CPU times: user 16.3 s, sys: 4.94 s, total: 21.3 s\n",
      "Wall time: 44.7 s\n"
     ]
    }
   ],
   "source": [
    "%%time\n",
    "best_model = None\n",
    "best_result = 0\n",
    "best_auc_roc = 0\n",
    "for est in range(1, 13):\n",
    "    model = AdaBoostClassifier(random_state=9091, n_estimators=est)\n",
    "    model.fit(features_train_upsampled, target_train_upsampled)\n",
    "    predicted_valid = model.predict(features_valid_scaled)\n",
    "    result = f1_score(target_valid, predicted_valid)\n",
    "    probabilities_valid = model.predict_proba(features_valid_scaled)\n",
    "    probabilities_one_valid = probabilities_valid[:, 1]\n",
    "    auc_roc = roc_auc_score(target_valid, probabilities_one_valid)\n",
    "    if result > best_result:\n",
    "        best_model = model\n",
    "        best_result = result\n",
    "        best_auc_roc = auc_roc\n",
    "print('лучший показатель F1:', best_result)\n",
    "print('лучшая модель:', best_model)\n",
    "print('лучший показатель AUC-ROC:', best_auc_roc)\n",
    "print()\n",
    "print('длительность расчётов:')"
   ]
  },
  {
   "cell_type": "markdown",
   "metadata": {},
   "source": [
    "### Градиентный классификатор"
   ]
  },
  {
   "cell_type": "code",
   "execution_count": 29,
   "metadata": {},
   "outputs": [
    {
     "name": "stdout",
     "output_type": "stream",
     "text": [
      "лучший показатель F1: 0.6153846153846154\n",
      "лучшая модель: GradientBoostingClassifier(max_depth=5, n_estimators=32, random_state=9091)\n",
      "лучший показатель AUC-ROC: 0.8494185144752462\n",
      "\n",
      "длительность расчётов:\n",
      "CPU times: user 12min 8s, sys: 11.3 s, total: 12min 19s\n",
      "Wall time: 13min 44s\n"
     ]
    }
   ],
   "source": [
    "%%time\n",
    "best_model = None\n",
    "best_result = 0\n",
    "best_auc_roc = 0\n",
    "for est in range(1, 33):\n",
    "    for depth in range(1, 7):\n",
    "        model = GradientBoostingClassifier(random_state=9091, n_estimators=est, max_depth=depth)\n",
    "        model.fit(features_train_upsampled, target_train_upsampled)\n",
    "        predicted_valid = model.predict(features_valid_scaled)\n",
    "        result = f1_score(target_valid, predicted_valid)\n",
    "        probabilities_valid = model.predict_proba(features_valid_scaled)\n",
    "        probabilities_one_valid = probabilities_valid[:, 1]\n",
    "        auc_roc = roc_auc_score(target_valid, probabilities_one_valid)\n",
    "        if result > best_result:\n",
    "            best_model = model\n",
    "            best_result = result\n",
    "            best_auc_roc = auc_roc\n",
    "print('лучший показатель F1:', best_result)\n",
    "print('лучшая модель:', best_model)\n",
    "print('лучший показатель AUC-ROC:', best_auc_roc)\n",
    "print()\n",
    "print('длительность расчётов:')    "
   ]
  },
  {
   "cell_type": "markdown",
   "metadata": {},
   "source": [
    "А вот градиентный классификатор показал себя намного лучше остальных, хоть и расчёты идут достаточно долго, эта модель уже может подойти для тестирования"
   ]
  },
  {
   "cell_type": "markdown",
   "metadata": {},
   "source": [
    "### Линейный классификатор"
   ]
  },
  {
   "cell_type": "code",
   "execution_count": 30,
   "metadata": {},
   "outputs": [
    {
     "name": "stdout",
     "output_type": "stream",
     "text": [
      "лучший показатель F1: 0.33191489361702126\n",
      "лучшая модель: RidgeClassifier(max_iter=1, random_state=9091)\n",
      "лучший показатель AUC-ROC: 0.5693755928199438\n",
      "\n",
      "длительность расчётов:\n",
      "CPU times: user 46.3 s, sys: 17.9 s, total: 1min 4s\n",
      "Wall time: 1min 4s\n"
     ]
    }
   ],
   "source": [
    "%%time\n",
    "best_model = None\n",
    "best_result = 0\n",
    "best_auc_roc = 0\n",
    "for it in range(1, 11):\n",
    "    model = RidgeClassifier(random_state=9091, max_iter=it)\n",
    "    model.fit(features_train_upsampled, target_train_upsampled)\n",
    "    predicted_valid = model.predict(features_valid_scaled)\n",
    "    result = f1_score(target_valid, predicted_valid)\n",
    "    auc_roc = roc_auc_score(target_valid, predicted_valid)\n",
    "    if result > best_result:\n",
    "        best_model = model\n",
    "        best_result = result\n",
    "        best_auc_roc = auc_roc\n",
    "print('лучший показатель F1:', best_result)\n",
    "print('лучшая модель:', best_model)\n",
    "print('лучший показатель AUC-ROC:', best_auc_roc)\n",
    "print()\n",
    "print('длительность расчётов:')"
   ]
  },
  {
   "cell_type": "markdown",
   "metadata": {},
   "source": [
    "Линейный классификатор, к сожалению, совсем не справляется с поставленной задачей"
   ]
  },
  {
   "cell_type": "markdown",
   "metadata": {},
   "source": [
    "За счёт увелечения количества ушедших клиентов удалось добиться заметного улушения показателей всех моделей, однако подходит под условия пока что лишь одна из них"
   ]
  },
  {
   "cell_type": "markdown",
   "metadata": {},
   "source": [
    "### Теперь попробуем наоборот уменьшить выборку клиентов, которые остались и протестируем лучшие модели"
   ]
  },
  {
   "cell_type": "code",
   "execution_count": 31,
   "metadata": {},
   "outputs": [],
   "source": [
    "def downsample(features, target, fraction):\n",
    "    features_zeros = features[target == 0]\n",
    "    features_ones = features[target == 1]\n",
    "    target_zeros = target[target == 0]\n",
    "    target_ones = target[target == 1]\n",
    "    features_train_downsampled = pd.concat(\n",
    "        [features_zeros.sample(frac=fraction, random_state=12345)] + [features_ones])\n",
    "    target_train_downsampled = pd.concat(\n",
    "        [target_zeros.sample(frac=fraction, random_state=12345)] + [target_ones])\n",
    "    features_train_downsampled, target_train_downsampled = shuffle(\n",
    "        features_train_downsampled, target_train_downsampled, random_state=12345)\n",
    "    return features_train_downsampled, target_train_downsampled\n",
    "features_train_downsampled, target_train_downsampled = downsample(features_train, target_train, 0.25)"
   ]
  },
  {
   "cell_type": "code",
   "execution_count": 32,
   "metadata": {},
   "outputs": [],
   "source": [
    "features_train_downsampled = scaler.transform(features_train_downsampled)"
   ]
  },
  {
   "cell_type": "markdown",
   "metadata": {},
   "source": [
    "### Решающее дерево"
   ]
  },
  {
   "cell_type": "code",
   "execution_count": 33,
   "metadata": {},
   "outputs": [
    {
     "name": "stdout",
     "output_type": "stream",
     "text": [
      "лучший показатель F1: 0.5688073394495412\n",
      "лучшая модель: DecisionTreeClassifier(max_depth=4, random_state=9091)\n",
      "лучший показатель AUC-ROC: 0.8058458757628363\n",
      "\n",
      "длительность расчётов:\n",
      "CPU times: user 5.54 s, sys: 39.6 ms, total: 5.58 s\n",
      "Wall time: 5.6 s\n"
     ]
    }
   ],
   "source": [
    "%%time\n",
    "best_model = None\n",
    "best_result = 0\n",
    "best_auc_roc = 0\n",
    "for depth in range(1, 51):\n",
    "    model = DecisionTreeClassifier(random_state=9091, max_depth=depth) \n",
    "    model.fit(features_train_downsampled, target_train_downsampled)\n",
    "    predicted_valid = model.predict(features_valid_scaled)\n",
    "    result = f1_score(target_valid, predicted_valid)\n",
    "    probabilities_valid = model.predict_proba(features_valid_scaled)\n",
    "    probabilities_one_valid = probabilities_valid[:, 1]\n",
    "    auc_roc = roc_auc_score(target_valid, probabilities_one_valid)\n",
    "    if result > best_result:\n",
    "        best_model = model\n",
    "        best_result = result\n",
    "        best_auc_roc = auc_roc\n",
    "print('лучший показатель F1:', best_result)\n",
    "print('лучшая модель:', best_model)\n",
    "print('лучший показатель AUC-ROC:', best_auc_roc)\n",
    "print()\n",
    "print('длительность расчётов:')"
   ]
  },
  {
   "cell_type": "markdown",
   "metadata": {},
   "source": [
    "### Случайный лес"
   ]
  },
  {
   "cell_type": "code",
   "execution_count": 34,
   "metadata": {},
   "outputs": [
    {
     "name": "stdout",
     "output_type": "stream",
     "text": [
      "лучший показатель F1: 0.5547169811320755\n",
      "лучшая модель: RandomForestClassifier(max_depth=20, n_estimators=18, random_state=9091)\n",
      "лучший показатель AUC-ROC: 0.7979013428303834\n",
      "\n",
      "длительность расчётов:\n",
      "CPU times: user 2min, sys: 1.25 s, total: 2min 1s\n",
      "Wall time: 2min 1s\n"
     ]
    }
   ],
   "source": [
    "%%time\n",
    "best_model = None\n",
    "best_result = 0\n",
    "best_auc_roc = 0\n",
    "for est in range(1, 41):\n",
    "    for depth in range(1, 21):\n",
    "        model = RandomForestClassifier(random_state=9091, n_estimators=est, max_depth=depth)\n",
    "        model.fit(features_train_downsampled, target_train_downsampled)\n",
    "        predicted_valid = model.predict(features_valid_scaled)\n",
    "        result = f1_score(target_valid, predicted_valid)\n",
    "        probabilities_valid = model.predict_proba(features_valid_scaled)\n",
    "        probabilities_one_valid = probabilities_valid[:, 1]\n",
    "        auc_roc = roc_auc_score(target_valid, probabilities_one_valid)\n",
    "        if result > best_result:\n",
    "            best_model = model\n",
    "            best_result = result\n",
    "            best_auc_roc = auc_roc\n",
    "print('лучший показатель F1:', best_result)\n",
    "print('лучшая модель:', best_model)\n",
    "print('лучший показатель AUC-ROC:', best_auc_roc)\n",
    "print()\n",
    "print('длительность расчётов:')  "
   ]
  },
  {
   "cell_type": "markdown",
   "metadata": {},
   "source": [
    "### градиентный классификатор"
   ]
  },
  {
   "cell_type": "code",
   "execution_count": 35,
   "metadata": {},
   "outputs": [
    {
     "name": "stdout",
     "output_type": "stream",
     "text": [
      "лучший показатель F1: 0.6017526777020448\n",
      "лучшая модель: GradientBoostingClassifier(max_depth=6, n_estimators=20, random_state=9091)\n",
      "лучший показатель AUC-ROC: 0.8477071663355824\n",
      "\n",
      "длительность расчётов:\n",
      "CPU times: user 1min 18s, sys: 668 ms, total: 1min 19s\n",
      "Wall time: 1min 19s\n"
     ]
    }
   ],
   "source": [
    "%%time\n",
    "best_model = None\n",
    "best_result = 0\n",
    "best_auc_roc = 0\n",
    "for est in range(1, 23):\n",
    "    for depth in range(1, 7):\n",
    "        model = GradientBoostingClassifier(random_state=9091, n_estimators=est, max_depth=depth)\n",
    "        model.fit(features_train_downsampled, target_train_downsampled)\n",
    "        predicted_valid = model.predict(features_valid_scaled)\n",
    "        result = f1_score(target_valid, predicted_valid)\n",
    "        probabilities_valid = model.predict_proba(features_valid_scaled)\n",
    "        probabilities_one_valid = probabilities_valid[:, 1]\n",
    "        auc_roc = roc_auc_score(target_valid, probabilities_one_valid)\n",
    "        if result > best_result:\n",
    "            best_model = model\n",
    "            best_result = result\n",
    "            best_auc_roc = auc_roc\n",
    "print('лучший показатель F1:', best_result)\n",
    "print('лучшая модель:', best_model)\n",
    "print('лучший показатель AUC-ROC:', best_auc_roc)\n",
    "print()\n",
    "print('длительность расчётов:')    "
   ]
  },
  {
   "cell_type": "markdown",
   "metadata": {},
   "source": [
    "Борьба с дисбалансом действительно заметно помогает, при этом лучше увеличивать выборку, нежели уменьшать её, при уменьшении показатели становяться хуже, хоть и не сильно, и снижается скорость расчётов. Предлагаю всё же остановиться на градиентном классификаторе с увеличенной выборкой, максимальной глубиной - 6 и 22 этапами предварительного расчёта"
   ]
  },
  {
   "cell_type": "markdown",
   "metadata": {},
   "source": [
    "## Тестирование модели"
   ]
  },
  {
   "cell_type": "code",
   "execution_count": 36,
   "metadata": {},
   "outputs": [
    {
     "data": {
      "text/plain": [
       "0.6111696522655428"
      ]
     },
     "execution_count": 36,
     "metadata": {},
     "output_type": "execute_result"
    }
   ],
   "source": [
    "model = GradientBoostingClassifier(max_depth=5, n_estimators=55, random_state=9091)\n",
    "model.fit(features_train_upsampled, target_train_upsampled)\n",
    "predicted_valid = model.predict(features_test_scaled)\n",
    "f1_score(target_test, predicted_valid)"
   ]
  },
  {
   "cell_type": "markdown",
   "metadata": {},
   "source": [
    "Необходимая модель получена. F1-мера достигает 0.61. Достаточно неплохие предсказания, с которыми можно работать"
   ]
  },
  {
   "cell_type": "markdown",
   "metadata": {},
   "source": [
    "Результаты стали лучше, однако для этого понадобилось изменить параметры, кол-во наблюдателей здесб выше, чем в подборе, поскольку на большее количесво уходит уже достаточно много времени. Наверняка можно добиться ещё лучшего результата подбором, но на это будет уходить крайне много времени."
   ]
  },
  {
   "cell_type": "markdown",
   "metadata": {},
   "source": [
    "## Вывод"
   ]
  },
  {
   "cell_type": "markdown",
   "metadata": {},
   "source": [
    "Данных было достаточно много, при этом были и пропуски в информации о количестве проведённых в банке лет в качестве клиента, данные пропуски было решено заменить на ноль, вероятнее всего именно это они и означали. Далее все данные были подготовлены для построения моделей классификации с помощью техники прямого кодирования, поскольку были использованы различные модели и такой способ является оптимальным для их работы, пусть и такая таблица может быть очень грамосткой. Так же, поскольку представлен общий датасет, было принято решение разделить его на 3 части, обучающую, валидационную и тестовою в соотношении 3:1:1 для корректного расчёта метрик."
   ]
  },
  {
   "cell_type": "markdown",
   "metadata": {},
   "source": [
    "Все протестированные модели справляются лучше случайных, судя по метрике AUC-ROC, у всех она больше 0.5. Лучшая же модель оказалась градиентным классификатором, которая показала на тестовой выборке значение F1-меры 0.61, что достаточно неплохо и подходит для, пусть и не совсем точного, но всё же предсказания ухода клиента из банка и может быть использована для прогназирования."
   ]
  }
 ],
 "metadata": {
  "ExecuteTimeLog": [
   {
    "duration": 360,
    "start_time": "2022-12-05T06:35:00.950Z"
   },
   {
    "duration": 89,
    "start_time": "2022-12-05T06:35:57.833Z"
   },
   {
    "duration": 20,
    "start_time": "2022-12-05T06:36:11.553Z"
   },
   {
    "duration": 13,
    "start_time": "2022-12-05T06:36:21.457Z"
   },
   {
    "duration": 4,
    "start_time": "2022-12-05T06:42:50.556Z"
   },
   {
    "duration": 13,
    "start_time": "2022-12-05T06:42:56.991Z"
   },
   {
    "duration": 208,
    "start_time": "2022-12-05T07:15:48.246Z"
   },
   {
    "duration": 20,
    "start_time": "2022-12-05T07:16:00.684Z"
   },
   {
    "duration": 68,
    "start_time": "2022-12-05T07:19:01.629Z"
   },
   {
    "duration": 75,
    "start_time": "2022-12-05T07:19:45.249Z"
   },
   {
    "duration": 741,
    "start_time": "2022-12-05T07:20:00.053Z"
   },
   {
    "duration": 77,
    "start_time": "2022-12-05T07:20:03.897Z"
   },
   {
    "duration": 138,
    "start_time": "2022-12-05T07:20:50.600Z"
   },
   {
    "duration": 106,
    "start_time": "2022-12-05T07:21:01.721Z"
   },
   {
    "duration": 43,
    "start_time": "2022-12-05T07:21:09.089Z"
   },
   {
    "duration": 4,
    "start_time": "2022-12-05T07:21:19.417Z"
   },
   {
    "duration": 4,
    "start_time": "2022-12-05T07:21:35.474Z"
   },
   {
    "duration": 4,
    "start_time": "2022-12-05T07:21:46.826Z"
   },
   {
    "duration": 4,
    "start_time": "2022-12-05T07:22:03.434Z"
   },
   {
    "duration": 115,
    "start_time": "2022-12-05T07:23:03.459Z"
   },
   {
    "duration": 3,
    "start_time": "2022-12-05T07:23:04.981Z"
   },
   {
    "duration": 44,
    "start_time": "2022-12-05T07:25:20.118Z"
   },
   {
    "duration": 7,
    "start_time": "2022-12-05T07:30:21.329Z"
   },
   {
    "duration": 12,
    "start_time": "2022-12-05T07:30:35.521Z"
   },
   {
    "duration": 6,
    "start_time": "2022-12-05T07:30:38.330Z"
   },
   {
    "duration": 3,
    "start_time": "2022-12-05T07:35:32.494Z"
   },
   {
    "duration": 3,
    "start_time": "2022-12-05T07:37:03.143Z"
   },
   {
    "duration": 55,
    "start_time": "2022-12-05T07:39:10.117Z"
   },
   {
    "duration": 3,
    "start_time": "2022-12-05T07:40:28.515Z"
   },
   {
    "duration": 16,
    "start_time": "2022-12-05T07:46:31.528Z"
   },
   {
    "duration": 2,
    "start_time": "2022-12-05T07:46:41.160Z"
   },
   {
    "duration": 30697,
    "start_time": "2022-12-05T07:46:43.624Z"
   },
   {
    "duration": 30235,
    "start_time": "2022-12-05T07:47:19.401Z"
   },
   {
    "duration": 30410,
    "start_time": "2022-12-05T07:49:37.312Z"
   },
   {
    "duration": 118,
    "start_time": "2022-12-05T07:51:16.111Z"
   },
   {
    "duration": 4,
    "start_time": "2022-12-05T07:51:19.052Z"
   },
   {
    "duration": 6,
    "start_time": "2022-12-05T07:51:21.699Z"
   },
   {
    "duration": 28292,
    "start_time": "2022-12-05T07:51:26.461Z"
   },
   {
    "duration": 1117,
    "start_time": "2022-12-06T07:42:04.229Z"
   },
   {
    "duration": 107,
    "start_time": "2022-12-06T07:42:05.347Z"
   },
   {
    "duration": 25,
    "start_time": "2022-12-06T07:42:05.456Z"
   },
   {
    "duration": 16,
    "start_time": "2022-12-06T07:42:05.484Z"
   },
   {
    "duration": 23,
    "start_time": "2022-12-06T07:42:05.502Z"
   },
   {
    "duration": 222,
    "start_time": "2022-12-06T07:42:05.527Z"
   },
   {
    "duration": 74,
    "start_time": "2022-12-06T07:42:05.751Z"
   },
   {
    "duration": 112,
    "start_time": "2022-12-06T07:42:05.826Z"
   },
   {
    "duration": 3,
    "start_time": "2022-12-06T07:42:05.939Z"
   },
   {
    "duration": 50,
    "start_time": "2022-12-06T07:42:05.945Z"
   },
   {
    "duration": 24717,
    "start_time": "2022-12-06T07:42:06.006Z"
   },
   {
    "duration": 10,
    "start_time": "2022-12-06T07:43:39.027Z"
   },
   {
    "duration": 1085,
    "start_time": "2022-12-06T11:23:52.102Z"
   },
   {
    "duration": 92,
    "start_time": "2022-12-06T11:23:53.190Z"
   },
   {
    "duration": 21,
    "start_time": "2022-12-06T11:23:53.283Z"
   },
   {
    "duration": 13,
    "start_time": "2022-12-06T11:23:53.305Z"
   },
   {
    "duration": 4,
    "start_time": "2022-12-06T11:23:53.320Z"
   },
   {
    "duration": 210,
    "start_time": "2022-12-06T11:23:53.325Z"
   },
   {
    "duration": 74,
    "start_time": "2022-12-06T11:23:53.536Z"
   },
   {
    "duration": 127,
    "start_time": "2022-12-06T11:23:53.612Z"
   },
   {
    "duration": 13,
    "start_time": "2022-12-06T11:23:53.741Z"
   },
   {
    "duration": 7,
    "start_time": "2022-12-06T11:23:53.756Z"
   },
   {
    "duration": 29099,
    "start_time": "2022-12-06T11:23:53.765Z"
   },
   {
    "duration": 102286,
    "start_time": "2022-12-06T11:24:31.120Z"
   },
   {
    "duration": 28994,
    "start_time": "2022-12-06T12:52:25.008Z"
   },
   {
    "duration": 1264,
    "start_time": "2022-12-06T12:54:03.931Z"
   },
   {
    "duration": 3,
    "start_time": "2022-12-06T12:58:33.976Z"
   },
   {
    "duration": 151960,
    "start_time": "2022-12-06T12:59:23.808Z"
   },
   {
    "duration": 51,
    "start_time": "2022-12-06T13:02:48.363Z"
   },
   {
    "duration": 7,
    "start_time": "2022-12-06T13:07:14.858Z"
   },
   {
    "duration": 110410,
    "start_time": "2022-12-06T13:08:23.346Z"
   },
   {
    "duration": 3,
    "start_time": "2022-12-06T13:12:12.300Z"
   },
   {
    "duration": 205765,
    "start_time": "2022-12-06T13:13:46.422Z"
   },
   {
    "duration": 4,
    "start_time": "2022-12-06T13:20:59.668Z"
   },
   {
    "duration": 464837,
    "start_time": "2022-12-06T13:21:57.660Z"
   },
   {
    "duration": 4,
    "start_time": "2022-12-06T13:34:11.479Z"
   },
   {
    "duration": 64924,
    "start_time": "2022-12-06T13:34:34.935Z"
   },
   {
    "duration": 5,
    "start_time": "2022-12-06T13:37:30.272Z"
   },
   {
    "duration": 392,
    "start_time": "2022-12-06T13:37:47.939Z"
   },
   {
    "duration": 4,
    "start_time": "2022-12-06T13:39:37.659Z"
   },
   {
    "duration": 3294386,
    "start_time": "2022-12-06T13:40:43.373Z"
   },
   {
    "duration": 1231,
    "start_time": "2022-12-07T09:31:00.019Z"
   },
   {
    "duration": 103,
    "start_time": "2022-12-07T09:31:01.252Z"
   },
   {
    "duration": 22,
    "start_time": "2022-12-07T09:31:01.356Z"
   },
   {
    "duration": 19,
    "start_time": "2022-12-07T09:31:01.380Z"
   },
   {
    "duration": 47,
    "start_time": "2022-12-07T09:31:01.402Z"
   },
   {
    "duration": 238,
    "start_time": "2022-12-07T09:31:01.451Z"
   },
   {
    "duration": 81,
    "start_time": "2022-12-07T09:31:01.691Z"
   },
   {
    "duration": 128,
    "start_time": "2022-12-07T09:31:01.774Z"
   },
   {
    "duration": 5,
    "start_time": "2022-12-07T09:31:01.903Z"
   },
   {
    "duration": 9,
    "start_time": "2022-12-07T09:31:01.910Z"
   },
   {
    "duration": 27935,
    "start_time": "2022-12-07T09:31:01.921Z"
   },
   {
    "duration": 98072,
    "start_time": "2022-12-07T09:31:29.857Z"
   },
   {
    "duration": 148086,
    "start_time": "2022-12-07T09:33:07.931Z"
   },
   {
    "duration": 92737,
    "start_time": "2022-12-07T09:35:36.019Z"
   },
   {
    "duration": 200426,
    "start_time": "2022-12-07T09:37:08.760Z"
   },
   {
    "duration": 445084,
    "start_time": "2022-12-07T09:40:29.188Z"
   },
   {
    "duration": 47782,
    "start_time": "2022-12-07T09:47:54.274Z"
   },
   {
    "duration": 54,
    "start_time": "2022-12-07T10:07:43.142Z"
   },
   {
    "duration": 4,
    "start_time": "2022-12-07T10:08:16.977Z"
   },
   {
    "duration": 118,
    "start_time": "2022-12-07T10:14:31.643Z"
   },
   {
    "duration": 30051,
    "start_time": "2022-12-07T10:16:03.592Z"
   },
   {
    "duration": 34503,
    "start_time": "2022-12-07T10:16:45.558Z"
   },
   {
    "duration": 154,
    "start_time": "2022-12-07T10:17:55.531Z"
   },
   {
    "duration": 35305,
    "start_time": "2022-12-07T10:18:06.834Z"
   },
   {
    "duration": 34890,
    "start_time": "2022-12-07T10:18:48.092Z"
   },
   {
    "duration": 152505,
    "start_time": "2022-12-07T10:20:13.053Z"
   },
   {
    "duration": 432114,
    "start_time": "2022-12-07T10:23:10.020Z"
   },
   {
    "duration": 250518,
    "start_time": "2022-12-07T10:31:42.384Z"
   },
   {
    "duration": 107037,
    "start_time": "2022-12-07T10:37:42.429Z"
   },
   {
    "duration": 125164,
    "start_time": "2022-12-07T10:40:42.492Z"
   },
   {
    "duration": 361,
    "start_time": "2022-12-07T10:42:53.634Z"
   },
   {
    "duration": 692629,
    "start_time": "2022-12-07T10:43:40.666Z"
   },
   {
    "duration": 675044,
    "start_time": "2022-12-07T10:58:24.952Z"
   },
   {
    "duration": 78422,
    "start_time": "2022-12-07T11:11:54.444Z"
   },
   {
    "duration": 89,
    "start_time": "2022-12-07T11:42:09.974Z"
   },
   {
    "duration": 63,
    "start_time": "2022-12-07T11:43:55.167Z"
   },
   {
    "duration": 8058,
    "start_time": "2022-12-07T11:44:36.074Z"
   },
   {
    "duration": 151218,
    "start_time": "2022-12-07T11:45:30.132Z"
   },
   {
    "duration": 78338,
    "start_time": "2022-12-07T11:49:08.663Z"
   },
   {
    "duration": 5,
    "start_time": "2022-12-07T11:55:54.129Z"
   },
   {
    "duration": 54,
    "start_time": "2022-12-07T11:56:38.206Z"
   },
   {
    "duration": 6,
    "start_time": "2022-12-07T11:56:49.750Z"
   },
   {
    "duration": 42,
    "start_time": "2022-12-07T11:56:49.758Z"
   },
   {
    "duration": 13,
    "start_time": "2022-12-07T11:56:49.802Z"
   },
   {
    "duration": 18,
    "start_time": "2022-12-07T11:56:49.816Z"
   },
   {
    "duration": 4,
    "start_time": "2022-12-07T11:56:49.837Z"
   },
   {
    "duration": 48,
    "start_time": "2022-12-07T11:56:49.843Z"
   },
   {
    "duration": 4,
    "start_time": "2022-12-07T11:56:49.893Z"
   },
   {
    "duration": 9,
    "start_time": "2022-12-07T11:56:49.899Z"
   },
   {
    "duration": 6,
    "start_time": "2022-12-07T11:56:49.910Z"
   },
   {
    "duration": 9,
    "start_time": "2022-12-07T11:56:49.918Z"
   },
   {
    "duration": 2525,
    "start_time": "2022-12-07T11:56:54.887Z"
   },
   {
    "duration": 137,
    "start_time": "2022-12-07T11:57:17.638Z"
   },
   {
    "duration": 209,
    "start_time": "2022-12-07T11:57:40.487Z"
   },
   {
    "duration": 5,
    "start_time": "2022-12-07T11:57:48.003Z"
   },
   {
    "duration": 57,
    "start_time": "2022-12-07T11:57:48.010Z"
   },
   {
    "duration": 14,
    "start_time": "2022-12-07T11:57:48.069Z"
   },
   {
    "duration": 23,
    "start_time": "2022-12-07T11:57:48.085Z"
   },
   {
    "duration": 7,
    "start_time": "2022-12-07T11:57:48.111Z"
   },
   {
    "duration": 226,
    "start_time": "2022-12-07T11:57:48.120Z"
   },
   {
    "duration": 46,
    "start_time": "2022-12-07T11:57:48.347Z"
   },
   {
    "duration": 124,
    "start_time": "2022-12-07T11:57:48.394Z"
   },
   {
    "duration": 5,
    "start_time": "2022-12-07T11:57:48.520Z"
   },
   {
    "duration": 10,
    "start_time": "2022-12-07T11:57:48.526Z"
   },
   {
    "duration": 29965,
    "start_time": "2022-12-07T11:57:59.965Z"
   },
   {
    "duration": 83275,
    "start_time": "2022-12-07T12:06:01.095Z"
   },
   {
    "duration": 64,
    "start_time": "2022-12-07T12:14:31.345Z"
   },
   {
    "duration": 17406,
    "start_time": "2022-12-07T12:28:14.251Z"
   },
   {
    "duration": 416787,
    "start_time": "2022-12-07T12:32:35.978Z"
   },
   {
    "duration": 91388,
    "start_time": "2022-12-07T12:41:12.071Z"
   },
   {
    "duration": 329442,
    "start_time": "2022-12-07T12:59:40.681Z"
   },
   {
    "duration": 8082,
    "start_time": "2022-12-07T13:14:10.002Z"
   },
   {
    "duration": 1132,
    "start_time": "2022-12-09T07:27:45.725Z"
   },
   {
    "duration": 87,
    "start_time": "2022-12-09T07:27:46.859Z"
   },
   {
    "duration": 21,
    "start_time": "2022-12-09T07:27:46.948Z"
   },
   {
    "duration": 20,
    "start_time": "2022-12-09T07:27:46.971Z"
   },
   {
    "duration": 5,
    "start_time": "2022-12-09T07:28:29.616Z"
   },
   {
    "duration": 4,
    "start_time": "2022-12-09T07:31:51.473Z"
   },
   {
    "duration": 4,
    "start_time": "2022-12-09T07:40:10.292Z"
   },
   {
    "duration": 5,
    "start_time": "2022-12-09T07:42:49.653Z"
   },
   {
    "duration": 99,
    "start_time": "2022-12-09T07:48:40.863Z"
   },
   {
    "duration": 10,
    "start_time": "2022-12-09T07:48:44.154Z"
   },
   {
    "duration": 11,
    "start_time": "2022-12-09T08:03:59.134Z"
   },
   {
    "duration": 4,
    "start_time": "2022-12-09T08:04:01.881Z"
   },
   {
    "duration": 10,
    "start_time": "2022-12-09T08:04:58.729Z"
   },
   {
    "duration": 4,
    "start_time": "2022-12-09T08:05:06.002Z"
   },
   {
    "duration": 11,
    "start_time": "2022-12-09T08:05:12.426Z"
   },
   {
    "duration": 20,
    "start_time": "2022-12-09T08:05:38.098Z"
   },
   {
    "duration": 20,
    "start_time": "2022-12-09T08:06:29.114Z"
   },
   {
    "duration": 194,
    "start_time": "2022-12-09T08:06:38.915Z"
   },
   {
    "duration": 71,
    "start_time": "2022-12-09T08:06:46.716Z"
   },
   {
    "duration": 109,
    "start_time": "2022-12-09T08:06:48.836Z"
   },
   {
    "duration": 689,
    "start_time": "2022-12-09T08:06:50.827Z"
   },
   {
    "duration": 5,
    "start_time": "2022-12-09T08:07:40.068Z"
   },
   {
    "duration": 7,
    "start_time": "2022-12-09T08:08:17.901Z"
   },
   {
    "duration": 439,
    "start_time": "2022-12-09T08:13:11.570Z"
   },
   {
    "duration": 5,
    "start_time": "2022-12-09T08:15:08.613Z"
   },
   {
    "duration": 129,
    "start_time": "2022-12-09T08:15:55.860Z"
   },
   {
    "duration": 109,
    "start_time": "2022-12-09T08:15:59.564Z"
   },
   {
    "duration": 57,
    "start_time": "2022-12-09T08:16:04.700Z"
   },
   {
    "duration": 64,
    "start_time": "2022-12-09T08:17:24.394Z"
   },
   {
    "duration": 72,
    "start_time": "2022-12-09T08:19:25.321Z"
   },
   {
    "duration": 74,
    "start_time": "2022-12-09T08:19:36.129Z"
   },
   {
    "duration": 121,
    "start_time": "2022-12-09T08:19:56.120Z"
   },
   {
    "duration": 147,
    "start_time": "2022-12-09T08:20:02.344Z"
   },
   {
    "duration": 68,
    "start_time": "2022-12-09T08:20:58.083Z"
   },
   {
    "duration": 71,
    "start_time": "2022-12-09T08:21:28.633Z"
   },
   {
    "duration": 137,
    "start_time": "2022-12-09T08:22:06.714Z"
   },
   {
    "duration": 75,
    "start_time": "2022-12-09T08:22:23.226Z"
   },
   {
    "duration": 86,
    "start_time": "2022-12-09T08:22:38.282Z"
   },
   {
    "duration": 82,
    "start_time": "2022-12-09T08:22:42.122Z"
   },
   {
    "duration": 72,
    "start_time": "2022-12-09T08:22:48.043Z"
   },
   {
    "duration": 74,
    "start_time": "2022-12-09T08:23:27.539Z"
   },
   {
    "duration": 4,
    "start_time": "2022-12-09T08:23:38.204Z"
   },
   {
    "duration": 46,
    "start_time": "2022-12-09T08:23:42.691Z"
   },
   {
    "duration": 68,
    "start_time": "2022-12-09T08:23:54.476Z"
   },
   {
    "duration": 78,
    "start_time": "2022-12-09T08:24:35.013Z"
   },
   {
    "duration": 77,
    "start_time": "2022-12-09T08:24:41.988Z"
   },
   {
    "duration": 80,
    "start_time": "2022-12-09T08:25:16.445Z"
   },
   {
    "duration": 85,
    "start_time": "2022-12-09T08:25:23.718Z"
   },
   {
    "duration": 79,
    "start_time": "2022-12-09T08:25:35.685Z"
   },
   {
    "duration": 73,
    "start_time": "2022-12-09T08:26:10.286Z"
   },
   {
    "duration": 70,
    "start_time": "2022-12-09T08:26:15.133Z"
   },
   {
    "duration": 175,
    "start_time": "2022-12-09T08:26:19.742Z"
   },
   {
    "duration": 71,
    "start_time": "2022-12-09T08:26:22.750Z"
   },
   {
    "duration": 71,
    "start_time": "2022-12-09T08:26:28.967Z"
   },
   {
    "duration": 128,
    "start_time": "2022-12-09T08:28:58.128Z"
   },
   {
    "duration": 6,
    "start_time": "2022-12-09T08:29:14.485Z"
   },
   {
    "duration": 52,
    "start_time": "2022-12-09T08:29:14.493Z"
   },
   {
    "duration": 14,
    "start_time": "2022-12-09T08:29:14.546Z"
   },
   {
    "duration": 38,
    "start_time": "2022-12-09T08:29:14.562Z"
   },
   {
    "duration": 13,
    "start_time": "2022-12-09T08:29:14.603Z"
   },
   {
    "duration": 8,
    "start_time": "2022-12-09T08:29:14.618Z"
   },
   {
    "duration": 189,
    "start_time": "2022-12-09T08:29:14.628Z"
   },
   {
    "duration": 50,
    "start_time": "2022-12-09T08:29:14.819Z"
   },
   {
    "duration": 106,
    "start_time": "2022-12-09T08:29:14.871Z"
   },
   {
    "duration": 684,
    "start_time": "2022-12-09T08:29:14.981Z"
   },
   {
    "duration": 4,
    "start_time": "2022-12-09T08:29:15.667Z"
   },
   {
    "duration": 15,
    "start_time": "2022-12-09T08:29:15.673Z"
   },
   {
    "duration": 88,
    "start_time": "2022-12-09T08:29:15.690Z"
   },
   {
    "duration": 113,
    "start_time": "2022-12-09T08:29:18.529Z"
   },
   {
    "duration": 4,
    "start_time": "2022-12-09T08:30:20.497Z"
   },
   {
    "duration": 75,
    "start_time": "2022-12-09T08:30:26.618Z"
   },
   {
    "duration": 531,
    "start_time": "2022-12-09T08:30:50.475Z"
   },
   {
    "duration": 3,
    "start_time": "2022-12-09T08:30:52.906Z"
   },
   {
    "duration": 5,
    "start_time": "2022-12-09T08:31:01.826Z"
   },
   {
    "duration": 96,
    "start_time": "2022-12-09T08:31:41.572Z"
   },
   {
    "duration": 23,
    "start_time": "2022-12-09T08:31:45.371Z"
   },
   {
    "duration": 126,
    "start_time": "2022-12-09T08:31:50.363Z"
   },
   {
    "duration": 215,
    "start_time": "2022-12-09T08:33:18.959Z"
   },
   {
    "duration": 25,
    "start_time": "2022-12-09T08:33:25.240Z"
   },
   {
    "duration": 4,
    "start_time": "2022-12-09T08:37:17.825Z"
   },
   {
    "duration": 167,
    "start_time": "2022-12-09T08:38:04.593Z"
   },
   {
    "duration": 23,
    "start_time": "2022-12-09T08:38:06.454Z"
   },
   {
    "duration": 49,
    "start_time": "2022-12-09T08:38:21.130Z"
   },
   {
    "duration": 97,
    "start_time": "2022-12-09T08:38:21.617Z"
   },
   {
    "duration": 658,
    "start_time": "2022-12-09T08:38:22.002Z"
   },
   {
    "duration": 3,
    "start_time": "2022-12-09T08:38:22.662Z"
   },
   {
    "duration": 4,
    "start_time": "2022-12-09T08:38:32.930Z"
   },
   {
    "duration": 71,
    "start_time": "2022-12-09T08:38:33.473Z"
   },
   {
    "duration": 23322,
    "start_time": "2022-12-09T08:38:40.874Z"
   },
   {
    "duration": 69323,
    "start_time": "2022-12-09T08:40:01.667Z"
   },
   {
    "duration": 149512,
    "start_time": "2022-12-09T09:28:51.175Z"
   },
   {
    "duration": 889211,
    "start_time": "2022-12-09T09:32:06.226Z"
   },
   {
    "duration": 225185,
    "start_time": "2022-12-09T09:47:35.833Z"
   },
   {
    "duration": 472483,
    "start_time": "2022-12-09T09:51:48.653Z"
   },
   {
    "duration": 4627,
    "start_time": "2022-12-09T10:01:26.710Z"
   },
   {
    "duration": 45351,
    "start_time": "2022-12-09T10:01:52.990Z"
   },
   {
    "duration": 40,
    "start_time": "2022-12-09T10:03:16.023Z"
   },
   {
    "duration": 454109,
    "start_time": "2022-12-09T10:03:26.518Z"
   },
   {
    "duration": 45274,
    "start_time": "2022-12-09T10:13:23.664Z"
   },
   {
    "duration": 49,
    "start_time": "2022-12-09T10:14:53.001Z"
   },
   {
    "duration": 255,
    "start_time": "2022-12-09T10:15:00.129Z"
   },
   {
    "duration": 498,
    "start_time": "2022-12-09T10:18:02.140Z"
   },
   {
    "duration": 103,
    "start_time": "2022-12-09T10:20:45.239Z"
   },
   {
    "duration": 673,
    "start_time": "2022-12-09T10:20:46.103Z"
   },
   {
    "duration": 104,
    "start_time": "2022-12-09T10:20:52.752Z"
   },
   {
    "duration": 222,
    "start_time": "2022-12-09T10:22:00.857Z"
   },
   {
    "duration": 30013,
    "start_time": "2022-12-09T10:23:23.209Z"
   },
   {
    "duration": 333957,
    "start_time": "2022-12-09T10:24:23.450Z"
   },
   {
    "duration": 240252,
    "start_time": "2022-12-09T10:31:05.304Z"
   },
   {
    "duration": 20256,
    "start_time": "2022-12-09T10:35:59.973Z"
   },
   {
    "duration": 524,
    "start_time": "2022-12-09T10:36:39.213Z"
   },
   {
    "duration": 350493,
    "start_time": "2022-12-09T10:37:02.447Z"
   },
   {
    "duration": 7281,
    "start_time": "2022-12-09T10:43:58.676Z"
   },
   {
    "duration": 7440,
    "start_time": "2022-12-09T10:44:10.086Z"
   },
   {
    "duration": 7333,
    "start_time": "2022-12-09T10:44:42.268Z"
   },
   {
    "duration": 46,
    "start_time": "2022-12-09T10:45:38.910Z"
   },
   {
    "duration": 63603,
    "start_time": "2022-12-09T10:46:17.535Z"
   },
   {
    "duration": 870483,
    "start_time": "2022-12-09T10:48:06.952Z"
   },
   {
    "duration": 57,
    "start_time": "2022-12-09T11:08:06.914Z"
   },
   {
    "duration": 76,
    "start_time": "2022-12-09T11:08:07.578Z"
   },
   {
    "duration": 5127,
    "start_time": "2022-12-09T11:08:09.618Z"
   },
   {
    "duration": 112219,
    "start_time": "2022-12-09T11:08:19.746Z"
   },
   {
    "duration": 5244,
    "start_time": "2022-12-09T11:12:17.293Z"
   },
   {
    "duration": 71304,
    "start_time": "2022-12-09T11:12:27.070Z"
   },
   {
    "duration": 7255,
    "start_time": "2022-12-09T11:13:58.543Z"
   },
   {
    "duration": 6368,
    "start_time": "2022-12-09T11:14:20.424Z"
   },
   {
    "duration": 7146,
    "start_time": "2022-12-09T11:14:31.623Z"
   },
   {
    "duration": 8437,
    "start_time": "2022-12-09T11:14:41.415Z"
   },
   {
    "duration": 715264,
    "start_time": "2022-12-09T11:15:08.544Z"
   },
   {
    "duration": 13694,
    "start_time": "2022-12-09T11:27:22.643Z"
   },
   {
    "duration": 15226,
    "start_time": "2022-12-09T11:28:03.363Z"
   },
   {
    "duration": 17064,
    "start_time": "2022-12-09T11:29:01.821Z"
   },
   {
    "duration": 31434,
    "start_time": "2022-12-09T11:29:25.534Z"
   },
   {
    "duration": 16916,
    "start_time": "2022-12-09T11:30:01.791Z"
   },
   {
    "duration": 63,
    "start_time": "2022-12-09T11:35:47.171Z"
   },
   {
    "duration": 1555,
    "start_time": "2023-03-20T14:52:09.354Z"
   },
   {
    "duration": 175,
    "start_time": "2023-03-20T14:52:10.911Z"
   },
   {
    "duration": 18,
    "start_time": "2023-03-20T14:52:11.088Z"
   },
   {
    "duration": 12,
    "start_time": "2023-03-20T14:52:11.108Z"
   },
   {
    "duration": 2,
    "start_time": "2023-03-20T14:52:11.122Z"
   },
   {
    "duration": 6,
    "start_time": "2023-03-20T14:52:11.125Z"
   },
   {
    "duration": 5,
    "start_time": "2023-03-20T14:52:11.132Z"
   },
   {
    "duration": 205,
    "start_time": "2023-03-20T14:52:11.138Z"
   },
   {
    "duration": 66,
    "start_time": "2023-03-20T14:52:11.345Z"
   },
   {
    "duration": 122,
    "start_time": "2023-03-20T14:52:11.414Z"
   },
   {
    "duration": 1115,
    "start_time": "2023-03-20T14:52:11.541Z"
   },
   {
    "duration": 4,
    "start_time": "2023-03-20T14:52:12.658Z"
   },
   {
    "duration": 7,
    "start_time": "2023-03-20T14:52:12.665Z"
   },
   {
    "duration": 267,
    "start_time": "2023-03-20T14:52:12.674Z"
   },
   {
    "duration": 27786,
    "start_time": "2023-03-20T14:52:12.943Z"
   },
   {
    "duration": 73071,
    "start_time": "2023-03-20T14:52:40.730Z"
   },
   {
    "duration": 149134,
    "start_time": "2023-03-20T14:53:53.803Z"
   },
   {
    "duration": 674307,
    "start_time": "2023-03-20T14:56:22.943Z"
   },
   {
    "duration": 220248,
    "start_time": "2023-03-20T15:07:37.345Z"
   },
   {
    "duration": 444355,
    "start_time": "2023-03-20T15:11:17.595Z"
   },
   {
    "duration": 56296,
    "start_time": "2023-03-20T15:18:41.953Z"
   },
   {
    "duration": 234,
    "start_time": "2023-03-20T15:19:38.252Z"
   },
   {
    "duration": 253,
    "start_time": "2023-03-20T15:19:38.488Z"
   },
   {
    "duration": 32082,
    "start_time": "2023-03-20T15:19:38.743Z"
   },
   {
    "duration": 622257,
    "start_time": "2023-03-20T15:20:10.828Z"
   },
   {
    "duration": 595285,
    "start_time": "2023-03-20T15:30:33.087Z"
   },
   {
    "duration": 1260775,
    "start_time": "2023-03-20T15:40:28.374Z"
   },
   {
    "duration": 44834,
    "start_time": "2023-03-20T16:01:29.153Z"
   },
   {
    "duration": 824581,
    "start_time": "2023-03-20T16:02:14.041Z"
   },
   {
    "duration": 64519,
    "start_time": "2023-03-20T16:15:58.624Z"
   },
   {
    "duration": 156,
    "start_time": "2023-03-20T16:17:03.146Z"
   },
   {
    "duration": 85,
    "start_time": "2023-03-20T16:17:03.304Z"
   },
   {
    "duration": 5601,
    "start_time": "2023-03-20T16:17:03.391Z"
   },
   {
    "duration": 121929,
    "start_time": "2023-03-20T16:17:08.994Z"
   },
   {
    "duration": 79821,
    "start_time": "2023-03-20T16:19:10.925Z"
   },
   {
    "duration": 17571,
    "start_time": "2023-03-20T16:20:30.748Z"
   }
  ],
  "kernelspec": {
   "display_name": "Python 3 (ipykernel)",
   "language": "python",
   "name": "python3"
  },
  "language_info": {
   "codemirror_mode": {
    "name": "ipython",
    "version": 3
   },
   "file_extension": ".py",
   "mimetype": "text/x-python",
   "name": "python",
   "nbconvert_exporter": "python",
   "pygments_lexer": "ipython3",
   "version": "3.9.12"
  },
  "toc": {
   "base_numbering": 1,
   "nav_menu": {},
   "number_sections": true,
   "sideBar": true,
   "skip_h1_title": true,
   "title_cell": "Содержание",
   "title_sidebar": "Contents",
   "toc_cell": true,
   "toc_position": {
    "height": "calc(100% - 180px)",
    "left": "10px",
    "top": "150px",
    "width": "256.188px"
   },
   "toc_section_display": true,
   "toc_window_display": true
  }
 },
 "nbformat": 4,
 "nbformat_minor": 2
}
